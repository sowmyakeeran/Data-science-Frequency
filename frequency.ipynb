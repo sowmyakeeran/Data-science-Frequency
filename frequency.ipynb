{
 "cells": [
  {
   "cell_type": "code",
   "execution_count": null,
   "id": "07dc1b7a",
   "metadata": {},
   "outputs": [],
   "source": [
    "                          #FREQUENCY\n",
    "import pandas as pd"
   ]
  },
  {
   "cell_type": "code",
   "execution_count": null,
   "id": "da944e16",
   "metadata": {},
   "outputs": [],
   "source": [
    "dataset=pd.read_csv('mark.csv')\n",
    "dataset.head()"
   ]
  },
  {
   "cell_type": "code",
   "execution_count": null,
   "id": "c3ac01ac",
   "metadata": {},
   "outputs": [],
   "source": [
    "#creating frequency table\n",
    "#.value_counts(),.sort_index,.sort_values()\n",
    "dataset[\"mark1\"]"
   ]
  },
  {
   "cell_type": "code",
   "execution_count": null,
   "id": "aa63977d",
   "metadata": {},
   "outputs": [],
   "source": [
    "dataset[\"mark1\"].sort_values()\n",
    "#arranging marks in ascending order(.sort_values())"
   ]
  },
  {
   "cell_type": "code",
   "execution_count": null,
   "id": "dfa09509",
   "metadata": {},
   "outputs": [],
   "source": [
    "dataset[\"mark1\"].value_counts()"
   ]
  },
  {
   "cell_type": "code",
   "execution_count": null,
   "id": "62ce7268",
   "metadata": {},
   "outputs": [],
   "source": [
    "dataset[\"mark1\"].value_counts().sort_values()"
   ]
  },
  {
   "cell_type": "code",
   "execution_count": null,
   "id": "05cd4dbe",
   "metadata": {},
   "outputs": [],
   "source": [
    "fre=pd.DataFrame(columns=[\"unique\",\"freq\",\"relative\",\"cumsum\"])\n",
    "fre"
   ]
  },
  {
   "cell_type": "code",
   "execution_count": null,
   "id": "4dc3f179",
   "metadata": {},
   "outputs": [],
   "source": [
    "fre[\"unique\"]=dataset[\"mark1\"].value_counts().sort_index().index"
   ]
  },
  {
   "cell_type": "code",
   "execution_count": null,
   "id": "a7ecf49e",
   "metadata": {},
   "outputs": [],
   "source": [
    "fre"
   ]
  },
  {
   "cell_type": "code",
   "execution_count": null,
   "id": "460af33d",
   "metadata": {},
   "outputs": [],
   "source": [
    "fre[\"freq\"]=dataset[\"mark1\"].value_counts().sort_values().values"
   ]
  },
  {
   "cell_type": "code",
   "execution_count": null,
   "id": "73b187be",
   "metadata": {},
   "outputs": [],
   "source": [
    "fre"
   ]
  },
  {
   "cell_type": "code",
   "execution_count": null,
   "id": "07ad9cf8",
   "metadata": {},
   "outputs": [],
   "source": [
    "fre[\"relative\"]=(fre[\"freq\"]/len(fre)*100)\n",
    "#to fill relative freq column=tableame[\"columnname\"]/len(table)*100\n",
    "\n"
   ]
  },
  {
   "cell_type": "code",
   "execution_count": null,
   "id": "5db2ec68",
   "metadata": {},
   "outputs": [],
   "source": [
    "fre"
   ]
  },
  {
   "cell_type": "code",
   "execution_count": null,
   "id": "2b11ddf1",
   "metadata": {},
   "outputs": [],
   "source": [
    "fre[\"cumsum\"]=fre[\"relative\"].cumsum()"
   ]
  },
  {
   "cell_type": "code",
   "execution_count": null,
   "id": "082174d4",
   "metadata": {},
   "outputs": [],
   "source": [
    "fre"
   ]
  },
  {
   "cell_type": "code",
   "execution_count": null,
   "id": "4e73fcbf",
   "metadata": {},
   "outputs": [],
   "source": [
    "#creating function for frequecy\n",
    "def freq(dataset,columnName):\n",
    "    fre=pd.DataFrame(columns=[\"Unique_Values\",\"Frequency\",\"RelativeFrequency\",\"cumsum\"])\n",
    "    fre[\"Unique_Values\"]=dataset[columnName].value_counts().sort_index().index\n",
    "    fre[\"Frequency\"]=dataset[columnName].value_counts().sort_values().values\n",
    "    fre[\"RelativeFrequency\"]=(fre[\"Frequency\"]/len(fre)*100)\n",
    "    fre[\"cumsum\"]=fre[\"RelativeFrequency\"].cumsum()\n",
    "    return fre    "
   ]
  },
  {
   "cell_type": "code",
   "execution_count": null,
   "id": "d9c917aa",
   "metadata": {},
   "outputs": [],
   "source": [
    "freq(dataset,\"mark1\")"
   ]
  },
  {
   "cell_type": "code",
   "execution_count": null,
   "id": "04526a66",
   "metadata": {},
   "outputs": [],
   "source": [
    "#center Tendency-mean,median,mode"
   ]
  },
  {
   "cell_type": "code",
   "execution_count": null,
   "id": "ca530648",
   "metadata": {},
   "outputs": [],
   "source": [
    "import pandas as pd"
   ]
  },
  {
   "cell_type": "code",
   "execution_count": null,
   "id": "d3c4cd5a",
   "metadata": {},
   "outputs": [],
   "source": [
    "df= pd.read_csv(\"mark.csv\")\n",
    "df"
   ]
  },
  {
   "cell_type": "code",
   "execution_count": null,
   "id": "cac3becb",
   "metadata": {},
   "outputs": [],
   "source": [
    "#seperating quan & qual\n",
    "def qualquan():\n",
    "    quan=[]\n",
    "    qual=[]\n",
    "    for colname in df.columns:\n",
    "        if(df[colname].dtypes==\"object\"):\n",
    "            qual.append(colname)\n",
    "        else:\n",
    "            quan.append(colname)\n",
    "    return quan,qual\n",
    "          \n",
    "        \n",
    "        \n",
    "        \n",
    "    "
   ]
  },
  {
   "cell_type": "code",
   "execution_count": null,
   "id": "81e958a7",
   "metadata": {},
   "outputs": [],
   "source": [
    "quan,qual=qualquan()\n",
    "\n"
   ]
  },
  {
   "cell_type": "code",
   "execution_count": null,
   "id": "03566328",
   "metadata": {},
   "outputs": [],
   "source": [
    "quan\n"
   ]
  },
  {
   "cell_type": "code",
   "execution_count": null,
   "id": "5bc861ec",
   "metadata": {},
   "outputs": [],
   "source": [
    "qual"
   ]
  },
  {
   "cell_type": "code",
   "execution_count": null,
   "id": "e827f181",
   "metadata": {},
   "outputs": [],
   "source": [
    "#creating table\n",
    "table1=pd.DataFrame(index=[\"mean\",\"median\",\"mode\"],columns=quan)\n",
    "table1"
   ]
  },
  {
   "cell_type": "code",
   "execution_count": null,
   "id": "1ad7d750",
   "metadata": {},
   "outputs": [],
   "source": [
    "#finding mean.mode.median\n",
    "for colname in quan:\n",
    "    table1[colname][\"mean\"]=df[colname].mean()\n",
    "    table1[colname][\"median\"]=df[colname].median()\n",
    "    table1[colname][\"mode\"]=df[colname].mode()[0]\n"
   ]
  },
  {
   "cell_type": "code",
   "execution_count": null,
   "id": "698ddb2e",
   "metadata": {},
   "outputs": [],
   "source": [
    "table1"
   ]
  },
  {
   "cell_type": "code",
   "execution_count": null,
   "id": "5c425b65",
   "metadata": {},
   "outputs": [],
   "source": [
    "#percentile and interquatile range\n",
    "import numpy as np\n",
    "#np.percentile(table1[\"mark1\"],25)\n",
    "measure=pd.DataFrame(index=[\"Mean\",\"Mode\",\"Median\",\"25th\",\"50th\",\"75th\",\"100th\",\"IQR\",\"1.5IQR\"\n",
    "                            ,\"lesser\",\"greater\",\"min\",\"max\",\"var\",\"std\"],columns=quan)\n",
    "measure"
   ]
  },
  {
   "cell_type": "code",
   "execution_count": null,
   "id": "0addcf2c",
   "metadata": {},
   "outputs": [],
   "source": [
    "MeasureTable=pd.DataFrame(index=[\"Mean\",\"Mode\",\"Median\",\"25\",\"50\",\"75\",\"100\",\"IQR\",\"1.5IQR\",\n",
    "                                 \"Lesser\",\"Greater\",\"Min\",\"Max\",\"var\",\"std\"],columns=quan)\n",
    "\n",
    "                          "
   ]
  },
  {
   "cell_type": "code",
   "execution_count": null,
   "id": "e6b1378f",
   "metadata": {},
   "outputs": [],
   "source": [
    "def uni(df,colname):\n",
    "    for colname in quan:\n",
    "        MeasureTable[colname][\"Mean\"]=df[colname].mean()\n",
    "        MeasureTable[colname][\"Mode\"]=df[colname].mode()[0]\n",
    "        MeasureTable[colname][\"Median\"]=df[colname].median()\n",
    "        MeasureTable[colname][\"25\"]=np.percentile(df[colname],25)\n",
    "        MeasureTable[colname][\"50\"]=np.percentile(df[colname],50)\n",
    "        MeasureTable[colname][\"75\"]=np.percentile(df[colname],75)\n",
    "        MeasureTable[colname][\"100\"]=np.percentile(df[colname],100)\n",
    "        MeasureTable[colname][\"IQR\"]=MeasureTable[colname][\"75\"]- MeasureTable[colname][\"25\"]\n",
    "        MeasureTable[colname][\"1.5IQR\"]=1.5*MeasureTable[colname][\"IQR\"]\n",
    "        MeasureTable[colname][\"lesser\"]=MeasureTable[colname][\"25\"]- MeasureTable[colname][\"1.5IQR\"]\n",
    "        MeasureTable[colname][\"greater\"]=MeasureTable[colname][\"75\"]+MeasureTable[colname][\"1.5IQR\"]\n",
    "        MeasureTable[colname][\"Min\"]=MeasureTable[colname].min()\n",
    "        MeasureTable[colname][\"Max\"]=MeasureTable[colname].max()\n",
    "        MeasureTable[colname][\"var\"]=df[colname].var()\n",
    "        MeasureTable[colname][\"std\"]=df[colname].std()\n",
    "    return MeasureTable\n",
    "    "
   ]
  },
  {
   "cell_type": "code",
   "execution_count": null,
   "id": "e6c4494b",
   "metadata": {},
   "outputs": [],
   "source": [
    "uni(df,colname)"
   ]
  },
  {
   "cell_type": "code",
   "execution_count": null,
   "id": "8bc92dc7",
   "metadata": {},
   "outputs": [],
   "source": [
    "import seaborn as sns\n",
    "import numpy as np\n",
    "import pandas as pd"
   ]
  },
  {
   "cell_type": "code",
   "execution_count": null,
   "id": "f621dd23",
   "metadata": {},
   "outputs": [],
   "source": [
    "df=pd.read_csv(\"mark.csv\")\n",
    "df.head()"
   ]
  },
  {
   "cell_type": "code",
   "execution_count": null,
   "id": "e7d40249",
   "metadata": {},
   "outputs": [],
   "source": [
    "#for categorical columns name and grade a)countplot b) pie chart\n",
    "#sns.countplot(df[\"grade\"])\n",
    "df['grade'].value_counts().plot(kind='bar')\n"
   ]
  },
  {
   "cell_type": "code",
   "execution_count": null,
   "id": "09f55eb1",
   "metadata": {},
   "outputs": [],
   "source": [
    "sns.countplot(df['name'])\n",
    "df['name'].value_counts()"
   ]
  },
  {
   "cell_type": "code",
   "execution_count": null,
   "id": "51439b1c",
   "metadata": {},
   "outputs": [],
   "source": [
    "df[\"grade\"].value_counts().plot(kind=\"pie\",autopct=\"%.2f\")"
   ]
  },
  {
   "cell_type": "code",
   "execution_count": null,
   "id": "17375fa3",
   "metadata": {},
   "outputs": [],
   "source": []
  },
  {
   "cell_type": "code",
   "execution_count": null,
   "id": "57acd647",
   "metadata": {},
   "outputs": [],
   "source": [
    "\n"
   ]
  }
 ],
 "metadata": {
  "kernelspec": {
   "display_name": "Python 3 (ipykernel)",
   "language": "python",
   "name": "python3"
  },
  "language_info": {
   "codemirror_mode": {
    "name": "ipython",
    "version": 3
   },
   "file_extension": ".py",
   "mimetype": "text/x-python",
   "name": "python",
   "nbconvert_exporter": "python",
   "pygments_lexer": "ipython3",
   "version": "3.7.6"
  }
 },
 "nbformat": 4,
 "nbformat_minor": 5
}
